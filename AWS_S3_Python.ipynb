{
 "cells": [
  {
   "cell_type": "code",
   "execution_count": 4,
   "metadata": {},
   "outputs": [],
   "source": [
    "import boto3"
   ]
  },
  {
   "cell_type": "code",
   "execution_count": 5,
   "metadata": {},
   "outputs": [],
   "source": [
    "# eu-west-1 is the cheapest of EU regions which is closest to Ghana (blossom-data-eng-user3)\n",
    "region = \"eu-west-1\""
   ]
  },
  {
   "cell_type": "code",
   "execution_count": 6,
   "metadata": {},
   "outputs": [],
   "source": [
    "# initialized s3 resource\n",
    "s3_client = boto3.client('s3', region_name=region)"
   ]
  },
  {
   "cell_type": "code",
   "execution_count": 7,
   "metadata": {},
   "outputs": [],
   "source": [
    "# location constraint for s3 bucket\n",
    "location = {'LocationConstraint': region}"
   ]
  },
  {
   "cell_type": "code",
   "execution_count": 9,
   "metadata": {},
   "outputs": [
    {
     "data": {
      "text/plain": [
       "{'ResponseMetadata': {'RequestId': 'C8JE02XBZTR8V1N2',\n",
       "  'HostId': 'ogbZwnVJU3BOxlX6EqeOAWsDsk98bEr4Rm0M6tklPxvnSDO5VaEUZfCcxXyrY+h3zKzEYQ+dZ9M=',\n",
       "  'HTTPStatusCode': 200,\n",
       "  'HTTPHeaders': {'x-amz-id-2': 'ogbZwnVJU3BOxlX6EqeOAWsDsk98bEr4Rm0M6tklPxvnSDO5VaEUZfCcxXyrY+h3zKzEYQ+dZ9M=',\n",
       "   'x-amz-request-id': 'C8JE02XBZTR8V1N2',\n",
       "   'date': 'Tue, 21 Sep 2021 23:28:38 GMT',\n",
       "   'location': 'http://blossom-data-eng-user5.s3.amazonaws.com/',\n",
       "   'server': 'AmazonS3',\n",
       "   'content-length': '0'},\n",
       "  'RetryAttempts': 0},\n",
       " 'Location': 'http://blossom-data-eng-user5.s3.amazonaws.com/'}"
      ]
     },
     "execution_count": 9,
     "metadata": {},
     "output_type": "execute_result"
    }
   ],
   "source": [
    "# create bucket, note json response\n",
    "bucket = \"blossom-data-eng-user5\"\n",
    "s3_client.create_bucket(Bucket=bucket,CreateBucketConfiguration=location)"
   ]
  },
  {
   "cell_type": "code",
   "execution_count": 26,
   "metadata": {},
   "outputs": [],
   "source": [
    "# upload files to the new bucket\n",
    "s3_client.upload_file(\"data1.txt\", bucket, \"data1.txt\")\n",
    "s3_client.upload_file(\"data2.txt\", bucket, \"data/data2.txt\")\n",
    "# s3_client.upload_file(\"data2.csv\", bucket, \"data1/data2.csv\")\n",
    "# s3_client.upload_file(\"data1.txt\", bucket, \"data1/data1.txt\")\n",
    "# s3_client.upload_file(\"data2.txt\", bucket, \"data2/data2.txt\")"
   ]
  },
  {
   "cell_type": "code",
   "execution_count": 27,
   "metadata": {},
   "outputs": [],
   "source": [
    "# download file to local filesystem\n",
    "s3_client.download_file(bucket, 'data1.txt', 'data2.txt')"
   ]
  },
  {
   "cell_type": "code",
   "execution_count": 28,
   "metadata": {},
   "outputs": [
    {
     "name": "stdout",
     "output_type": "stream",
     "text": [
      "data/data2.txt\n",
      "data1.csv\n",
      "data1.txt\n",
      "data1/data1.csv\n",
      "data1/data1.txt\n",
      "data1/data2.csv\n",
      "data1/data2.txt\n",
      "data2/data2.txt\n"
     ]
    }
   ],
   "source": [
    "# examine the bucket to confirm file upload\n",
    "for s3_object in s3_client.list_objects_v2(Bucket=bucket)['Contents']:\n",
    "    print(s3_object['Key'])"
   ]
  },
  {
   "cell_type": "code",
   "execution_count": 29,
   "metadata": {},
   "outputs": [],
   "source": [
    "# move file around S3\n",
    "s3_client.copy({'Bucket': bucket, 'Key': 'data1.txt'}, \n",
    "                bucket, 'data2.txt')"
   ]
  },
  {
   "cell_type": "code",
   "execution_count": 30,
   "metadata": {},
   "outputs": [
    {
     "name": "stdout",
     "output_type": "stream",
     "text": [
      "data/data2.txt\n",
      "data1.csv\n",
      "data1.txt\n",
      "data1/data1.csv\n",
      "data1/data1.txt\n",
      "data1/data2.csv\n",
      "data1/data2.txt\n",
      "data2.txt\n",
      "data2/data2.txt\n"
     ]
    }
   ],
   "source": [
    "# examine the bucket to confirm file move\n",
    "for s3_object in s3_client.list_objects_v2(Bucket=bucket)['Contents']:\n",
    "    print(s3_object['Key'])"
   ]
  },
  {
   "cell_type": "code",
   "execution_count": 31,
   "metadata": {},
   "outputs": [
    {
     "data": {
      "text/plain": [
       "9"
      ]
     },
     "execution_count": 31,
     "metadata": {},
     "output_type": "execute_result"
    }
   ],
   "source": [
    "# examine bucket key count\n",
    "s3_client.list_objects_v2(Bucket=bucket)['KeyCount']"
   ]
  },
  {
   "cell_type": "code",
   "execution_count": 32,
   "metadata": {},
   "outputs": [
    {
     "name": "stdout",
     "output_type": "stream",
     "text": [
      "deleted object:  data/data2.txt\n",
      "deleted object:  data1.csv\n",
      "deleted object:  data1.txt\n",
      "deleted object:  data1/data1.csv\n",
      "deleted object:  data1/data1.txt\n",
      "deleted object:  data1/data2.csv\n",
      "deleted object:  data1/data2.txt\n",
      "deleted object:  data2.txt\n",
      "deleted object:  data2/data2.txt\n"
     ]
    }
   ],
   "source": [
    "# delete objects in bucket\n",
    "for s3_object in s3_client.list_objects_v2(Bucket=bucket)['Contents']:\n",
    "    s3_client.delete_object(Bucket=bucket, Key=s3_object['Key'])\n",
    "    print(\"deleted object: \", s3_object['Key'])"
   ]
  },
  {
   "cell_type": "code",
   "execution_count": 33,
   "metadata": {},
   "outputs": [
    {
     "data": {
      "text/plain": [
       "0"
      ]
     },
     "execution_count": 33,
     "metadata": {},
     "output_type": "execute_result"
    }
   ],
   "source": [
    "# key count should be zero\n",
    "s3_client.list_objects_v2(Bucket=bucket)['KeyCount']"
   ]
  },
  {
   "cell_type": "code",
   "execution_count": 34,
   "metadata": {},
   "outputs": [
    {
     "data": {
      "text/plain": [
       "{'ResponseMetadata': {'RequestId': 'YCVK9E3MKY6BR96G',\n",
       "  'HostId': 'C8USrdSt+KxXYFepjBDgu5C6zF+llxhKIM1OnI6ZbM1VIJtXnLqK4ZlbJpDsKrJ+CxndAWoiqk8=',\n",
       "  'HTTPStatusCode': 204,\n",
       "  'HTTPHeaders': {'x-amz-id-2': 'C8USrdSt+KxXYFepjBDgu5C6zF+llxhKIM1OnI6ZbM1VIJtXnLqK4ZlbJpDsKrJ+CxndAWoiqk8=',\n",
       "   'x-amz-request-id': 'YCVK9E3MKY6BR96G',\n",
       "   'date': 'Wed, 22 Sep 2021 00:15:04 GMT',\n",
       "   'server': 'AmazonS3'},\n",
       "  'RetryAttempts': 0}}"
      ]
     },
     "execution_count": 34,
     "metadata": {},
     "output_type": "execute_result"
    }
   ],
   "source": [
    "# delete bucket\n",
    "s3_client.delete_bucket(Bucket=bucket)"
   ]
  },
  {
   "cell_type": "code",
   "execution_count": 35,
   "metadata": {},
   "outputs": [
    {
     "data": {
      "text/plain": [
       "[{'Name': 'blossom-data-eng',\n",
       "  'CreationDate': datetime.datetime(2021, 9, 21, 11, 13, 8, tzinfo=tzutc())}]"
      ]
     },
     "execution_count": 35,
     "metadata": {},
     "output_type": "execute_result"
    }
   ],
   "source": [
    "# list buckets\n",
    "s3_client.list_buckets()['Buckets']"
   ]
  },
  {
   "cell_type": "code",
   "execution_count": null,
   "metadata": {},
   "outputs": [],
   "source": []
  }
 ],
 "metadata": {
  "kernelspec": {
   "display_name": "Python 3",
   "language": "python",
   "name": "python3"
  },
  "language_info": {
   "codemirror_mode": {
    "name": "ipython",
    "version": 3
   },
   "file_extension": ".py",
   "mimetype": "text/x-python",
   "name": "python",
   "nbconvert_exporter": "python",
   "pygments_lexer": "ipython3",
   "version": "3.8.10"
  }
 },
 "nbformat": 4,
 "nbformat_minor": 4
}
